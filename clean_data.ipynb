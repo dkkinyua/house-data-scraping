{
 "cells": [
  {
   "cell_type": "markdown",
   "metadata": {},
   "source": [
    "# Let's clean our data.\n",
    "Our data is in a ```data.json``` file, so we need to fetch the data using the ```read_json()``` function from ```pandas``` to transform it into a dataframe for cleaning.\n"
   ]
  },
  {
   "cell_type": "code",
   "execution_count": 10,
   "metadata": {},
   "outputs": [],
   "source": [
    "import json\n",
    "import pandas as pd"
   ]
  },
  {
   "cell_type": "code",
   "execution_count": 11,
   "metadata": {},
   "outputs": [
    {
     "data": {
      "text/html": [
       "<div>\n",
       "<style scoped>\n",
       "    .dataframe tbody tr th:only-of-type {\n",
       "        vertical-align: middle;\n",
       "    }\n",
       "\n",
       "    .dataframe tbody tr th {\n",
       "        vertical-align: top;\n",
       "    }\n",
       "\n",
       "    .dataframe thead th {\n",
       "        text-align: right;\n",
       "    }\n",
       "</style>\n",
       "<table border=\"1\" class=\"dataframe\">\n",
       "  <thead>\n",
       "    <tr style=\"text-align: right;\">\n",
       "      <th></th>\n",
       "      <th>titles</th>\n",
       "      <th>locations</th>\n",
       "      <th>prices</th>\n",
       "    </tr>\n",
       "  </thead>\n",
       "  <tbody>\n",
       "    <tr>\n",
       "      <th>0</th>\n",
       "      <td>[3 Bed Townhouse with En Suite at Mtwapa, 4 Be...</td>\n",
       "      <td>[mtwapa, Mombasa CBD, Mombasa Island, Ruiru, K...</td>\n",
       "      <td>[9,000,000, 9,000,000, 9,000,000, 17,500,000, ...</td>\n",
       "    </tr>\n",
       "  </tbody>\n",
       "</table>\n",
       "</div>"
      ],
      "text/plain": [
       "                                              titles  \\\n",
       "0  [3 Bed Townhouse with En Suite at Mtwapa, 4 Be...   \n",
       "\n",
       "                                           locations  \\\n",
       "0  [mtwapa, Mombasa CBD, Mombasa Island, Ruiru, K...   \n",
       "\n",
       "                                              prices  \n",
       "0  [9,000,000, 9,000,000, 9,000,000, 17,500,000, ...  "
      ]
     },
     "execution_count": 11,
     "metadata": {},
     "output_type": "execute_result"
    }
   ],
   "source": [
    "df = pd.read_json('data.json')\n",
    "df.head(10)"
   ]
  },
  {
   "cell_type": "markdown",
   "metadata": {},
   "source": [
    "**There is a problem**\n",
    "\n",
    "Our df returns a list of titles, locations and prices instead of a singular item.\n",
    "This is becuase the titles, locations and prices list are defined inside a dictionary in ```scrape.py``` by:\n",
    "```python\n",
    "\n",
    "properties = []\n",
    "titles = []\n",
    "locations = []\n",
    "prices = []\n",
    "\n",
    "# other code\n",
    "\n",
    "properties.append(\n",
    "    {\n",
    "        \"titles\": titles,\n",
    "        \"locations\": locations,\n",
    "        \"prices\": prices\n",
    "    }\n",
    ")\n",
    "\n",
    "```\n",
    "\n",
    "So I'll need to explode it into individual lists. But I encountered a ValueError that the values of titles, locations and prices do not match, so let's check the length of each list from ```data.json```"
   ]
  },
  {
   "cell_type": "code",
   "execution_count": 12,
   "metadata": {},
   "outputs": [],
   "source": [
    "with open('data.json', 'r') as f:\n",
    "    data = json.load(f)"
   ]
  },
  {
   "cell_type": "code",
   "execution_count": 13,
   "metadata": {},
   "outputs": [
    {
     "data": {
      "text/plain": [
       "2456"
      ]
     },
     "execution_count": 13,
     "metadata": {},
     "output_type": "execute_result"
    }
   ],
   "source": [
    "len(data[0][\"titles\"])"
   ]
  },
  {
   "cell_type": "code",
   "execution_count": 14,
   "metadata": {},
   "outputs": [
    {
     "data": {
      "text/plain": [
       "2456"
      ]
     },
     "execution_count": 14,
     "metadata": {},
     "output_type": "execute_result"
    }
   ],
   "source": [
    "len(data[0][\"locations\"])"
   ]
  },
  {
   "cell_type": "code",
   "execution_count": 15,
   "metadata": {},
   "outputs": [
    {
     "data": {
      "text/plain": [
       "7293"
      ]
     },
     "execution_count": 15,
     "metadata": {},
     "output_type": "execute_result"
    }
   ],
   "source": [
    "len(data[0][\"prices\"])"
   ]
  },
  {
   "cell_type": "markdown",
   "metadata": {},
   "source": [
    "**Problem identified.**\n",
    "\n",
    "So the problem is, the length of the prices list is greater than both prices and locations.\n",
    "I'll truncate the values of the ```prices``` column to the 2457th index (to capture the 2456th price) then explode to individual columns"
   ]
  },
  {
   "cell_type": "code",
   "execution_count": 18,
   "metadata": {},
   "outputs": [
    {
     "data": {
      "text/html": [
       "<div>\n",
       "<style scoped>\n",
       "    .dataframe tbody tr th:only-of-type {\n",
       "        vertical-align: middle;\n",
       "    }\n",
       "\n",
       "    .dataframe tbody tr th {\n",
       "        vertical-align: top;\n",
       "    }\n",
       "\n",
       "    .dataframe thead th {\n",
       "        text-align: right;\n",
       "    }\n",
       "</style>\n",
       "<table border=\"1\" class=\"dataframe\">\n",
       "  <thead>\n",
       "    <tr style=\"text-align: right;\">\n",
       "      <th></th>\n",
       "      <th>titles</th>\n",
       "      <th>locations</th>\n",
       "      <th>prices</th>\n",
       "    </tr>\n",
       "  </thead>\n",
       "  <tbody>\n",
       "    <tr>\n",
       "      <th>0</th>\n",
       "      <td>3 Bed Townhouse with En Suite at Mtwapa</td>\n",
       "      <td>mtwapa, Mombasa CBD, Mombasa Island</td>\n",
       "      <td>9,000,000</td>\n",
       "    </tr>\n",
       "    <tr>\n",
       "      <th>1</th>\n",
       "      <td>4 Bed Townhouse with En Suite at Ruiru</td>\n",
       "      <td>Ruiru</td>\n",
       "      <td>9,000,000</td>\n",
       "    </tr>\n",
       "    <tr>\n",
       "      <th>2</th>\n",
       "      <td>5 Bed Townhouse with En Suite in Kitisuru</td>\n",
       "      <td>Kitisuru, Westlands</td>\n",
       "      <td>9,000,000</td>\n",
       "    </tr>\n",
       "    <tr>\n",
       "      <th>3</th>\n",
       "      <td>4 Bed Townhouse with En Suite at Lavington Green</td>\n",
       "      <td>Lavington green, Lavington</td>\n",
       "      <td>17,500,000</td>\n",
       "    </tr>\n",
       "    <tr>\n",
       "      <th>4</th>\n",
       "      <td>5 Bed Villa with En Suite in Runda</td>\n",
       "      <td>Runda, Westlands</td>\n",
       "      <td>17,500,000</td>\n",
       "    </tr>\n",
       "    <tr>\n",
       "      <th>5</th>\n",
       "      <td>5 Bed Townhouse with En Suite in Kitisuru</td>\n",
       "      <td>Kitisuru, Westlands</td>\n",
       "      <td>17,500,000</td>\n",
       "    </tr>\n",
       "    <tr>\n",
       "      <th>6</th>\n",
       "      <td>5 Bed House with En Suite in Lower Kabete</td>\n",
       "      <td>Lower Kabete, Westlands</td>\n",
       "      <td>290,000,000</td>\n",
       "    </tr>\n",
       "    <tr>\n",
       "      <th>7</th>\n",
       "      <td>5 Bed House with En Suite in Lavington</td>\n",
       "      <td>Lavington</td>\n",
       "      <td>290,000,000</td>\n",
       "    </tr>\n",
       "    <tr>\n",
       "      <th>8</th>\n",
       "      <td>5 Bed Townhouse with En Suite at Langata Road-</td>\n",
       "      <td>1Langata road-Kitengela lane, Langata road-, L...</td>\n",
       "      <td>290,000,000</td>\n",
       "    </tr>\n",
       "    <tr>\n",
       "      <th>9</th>\n",
       "      <td>4 Bed House with En Suite at Ruiru Easterbypass</td>\n",
       "      <td>Kamakis, Ruiru Easterbypass, Ruiru</td>\n",
       "      <td>62,000,000</td>\n",
       "    </tr>\n",
       "  </tbody>\n",
       "</table>\n",
       "</div>"
      ],
      "text/plain": [
       "                                             titles  \\\n",
       "0           3 Bed Townhouse with En Suite at Mtwapa   \n",
       "1            4 Bed Townhouse with En Suite at Ruiru   \n",
       "2         5 Bed Townhouse with En Suite in Kitisuru   \n",
       "3  4 Bed Townhouse with En Suite at Lavington Green   \n",
       "4                5 Bed Villa with En Suite in Runda   \n",
       "5         5 Bed Townhouse with En Suite in Kitisuru   \n",
       "6         5 Bed House with En Suite in Lower Kabete   \n",
       "7            5 Bed House with En Suite in Lavington   \n",
       "8    5 Bed Townhouse with En Suite at Langata Road-   \n",
       "9   4 Bed House with En Suite at Ruiru Easterbypass   \n",
       "\n",
       "                                           locations       prices  \n",
       "0                mtwapa, Mombasa CBD, Mombasa Island    9,000,000  \n",
       "1                                              Ruiru    9,000,000  \n",
       "2                                Kitisuru, Westlands    9,000,000  \n",
       "3                         Lavington green, Lavington   17,500,000  \n",
       "4                                   Runda, Westlands   17,500,000  \n",
       "5                                Kitisuru, Westlands   17,500,000  \n",
       "6                            Lower Kabete, Westlands  290,000,000  \n",
       "7                                          Lavington  290,000,000  \n",
       "8  1Langata road-Kitengela lane, Langata road-, L...  290,000,000  \n",
       "9                 Kamakis, Ruiru Easterbypass, Ruiru   62,000,000  "
      ]
     },
     "execution_count": 18,
     "metadata": {},
     "output_type": "execute_result"
    }
   ],
   "source": [
    "df[\"prices\"] = df[\"prices\"].apply(lambda x: x[:2456])\n",
    "df = df.explode([\"titles\", \"locations\", \"prices\"]).reset_index(drop=True)\n",
    "df.head(10)"
   ]
  },
  {
   "cell_type": "code",
   "execution_count": 20,
   "metadata": {},
   "outputs": [
    {
     "data": {
      "text/plain": [
       "titles       4 Bed House with En Suite at Ruiru Easterbypass\n",
       "locations                 Kamakis, Ruiru Easterbypass, Ruiru\n",
       "prices                                            62,000,000\n",
       "Name: 9, dtype: object"
      ]
     },
     "execution_count": 20,
     "metadata": {},
     "output_type": "execute_result"
    }
   ],
   "source": [
    "df.loc[9]"
   ]
  },
  {
   "cell_type": "code",
   "execution_count": null,
   "metadata": {},
   "outputs": [],
   "source": []
  }
 ],
 "metadata": {
  "kernelspec": {
   "display_name": "myenv",
   "language": "python",
   "name": "python3"
  },
  "language_info": {
   "codemirror_mode": {
    "name": "ipython",
    "version": 3
   },
   "file_extension": ".py",
   "mimetype": "text/x-python",
   "name": "python",
   "nbconvert_exporter": "python",
   "pygments_lexer": "ipython3",
   "version": "3.12.2"
  }
 },
 "nbformat": 4,
 "nbformat_minor": 2
}
