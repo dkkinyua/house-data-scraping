{
 "cells": [
  {
   "cell_type": "markdown",
   "metadata": {},
   "source": [
    "# Let's clean our data.\n",
    "Our data is in a ```data.json``` file, so we need to fetch the data using the ```read_json()``` function from ```pandas``` to transform it into a dataframe for cleaning.\n"
   ]
  },
  {
   "cell_type": "code",
   "execution_count": 39,
   "metadata": {},
   "outputs": [],
   "source": [
    "import json\n",
    "import pandas as pd\n",
    "import numpy as np"
   ]
  },
  {
   "cell_type": "code",
   "execution_count": 25,
   "metadata": {},
   "outputs": [
    {
     "data": {
      "text/html": [
       "<div>\n",
       "<style scoped>\n",
       "    .dataframe tbody tr th:only-of-type {\n",
       "        vertical-align: middle;\n",
       "    }\n",
       "\n",
       "    .dataframe tbody tr th {\n",
       "        vertical-align: top;\n",
       "    }\n",
       "\n",
       "    .dataframe thead th {\n",
       "        text-align: right;\n",
       "    }\n",
       "</style>\n",
       "<table border=\"1\" class=\"dataframe\">\n",
       "  <thead>\n",
       "    <tr style=\"text-align: right;\">\n",
       "      <th></th>\n",
       "      <th>titles</th>\n",
       "      <th>locations</th>\n",
       "      <th>prices</th>\n",
       "    </tr>\n",
       "  </thead>\n",
       "  <tbody>\n",
       "    <tr>\n",
       "      <th>0</th>\n",
       "      <td>[5 Bed House with En Suite in Kamakis, 6 Bed H...</td>\n",
       "      <td>[Kamakis, Ruiru, Lamu Town, Lamu, lamu, 0105, ...</td>\n",
       "      <td>[18,500,000, 24,000,000, 195,000,000, 22,000,0...</td>\n",
       "    </tr>\n",
       "  </tbody>\n",
       "</table>\n",
       "</div>"
      ],
      "text/plain": [
       "                                              titles  \\\n",
       "0  [5 Bed House with En Suite in Kamakis, 6 Bed H...   \n",
       "\n",
       "                                           locations  \\\n",
       "0  [Kamakis, Ruiru, Lamu Town, Lamu, lamu, 0105, ...   \n",
       "\n",
       "                                              prices  \n",
       "0  [18,500,000, 24,000,000, 195,000,000, 22,000,0...  "
      ]
     },
     "execution_count": 25,
     "metadata": {},
     "output_type": "execute_result"
    }
   ],
   "source": [
    "df = pd.read_json('data.json')\n",
    "df.head(10)"
   ]
  },
  {
   "cell_type": "markdown",
   "metadata": {},
   "source": [
    "**There is a problem**\n",
    "\n",
    "Our df returns a list of titles, locations and prices instead of a singular item.\n",
    "This is becuase the titles, locations and prices list are defined inside a dictionary in ```scrape.py``` by:\n",
    "```python\n",
    "\n",
    "properties = []\n",
    "titles = []\n",
    "locations = []\n",
    "prices = []\n",
    "\n",
    "# other code\n",
    "\n",
    "properties.append(\n",
    "    {\n",
    "        \"titles\": titles,\n",
    "        \"locations\": locations,\n",
    "        \"prices\": prices\n",
    "    }\n",
    ")\n",
    "\n",
    "```\n",
    "\n",
    "So I'll need to explode it into individual lists. But I encountered a ValueError that the values of titles, locations and prices do not match, so let's check the length of each list from ```data.json```"
   ]
  },
  {
   "cell_type": "code",
   "execution_count": 26,
   "metadata": {},
   "outputs": [],
   "source": [
    "with open('data.json', 'r') as f:\n",
    "    data = json.load(f)"
   ]
  },
  {
   "cell_type": "code",
   "execution_count": 27,
   "metadata": {},
   "outputs": [
    {
     "data": {
      "text/plain": [
       "2458"
      ]
     },
     "execution_count": 27,
     "metadata": {},
     "output_type": "execute_result"
    }
   ],
   "source": [
    "len(data[0][\"titles\"])"
   ]
  },
  {
   "cell_type": "code",
   "execution_count": 28,
   "metadata": {},
   "outputs": [
    {
     "data": {
      "text/plain": [
       "2458"
      ]
     },
     "execution_count": 28,
     "metadata": {},
     "output_type": "execute_result"
    }
   ],
   "source": [
    "len(data[0][\"locations\"])"
   ]
  },
  {
   "cell_type": "code",
   "execution_count": 34,
   "metadata": {},
   "outputs": [
    {
     "data": {
      "text/plain": [
       "2155"
      ]
     },
     "execution_count": 34,
     "metadata": {},
     "output_type": "execute_result"
    }
   ],
   "source": [
    "len(data[0][\"prices\"])"
   ]
  },
  {
   "cell_type": "markdown",
   "metadata": {},
   "source": [
    "**Problem identified.**\n",
    "\n",
    "So the problem is, the length of the prices list is greater than both prices and locations.\n",
    "I'll truncate the values of the ```prices``` column to the 2457th index (to capture the 2456th price) then explode to individual columns"
   ]
  },
  {
   "cell_type": "code",
   "execution_count": 33,
   "metadata": {},
   "outputs": [
    {
     "data": {
      "text/html": [
       "<div>\n",
       "<style scoped>\n",
       "    .dataframe tbody tr th:only-of-type {\n",
       "        vertical-align: middle;\n",
       "    }\n",
       "\n",
       "    .dataframe tbody tr th {\n",
       "        vertical-align: top;\n",
       "    }\n",
       "\n",
       "    .dataframe thead th {\n",
       "        text-align: right;\n",
       "    }\n",
       "</style>\n",
       "<table border=\"1\" class=\"dataframe\">\n",
       "  <thead>\n",
       "    <tr style=\"text-align: right;\">\n",
       "      <th></th>\n",
       "      <th>titles</th>\n",
       "      <th>locations</th>\n",
       "      <th>prices</th>\n",
       "    </tr>\n",
       "  </thead>\n",
       "  <tbody>\n",
       "    <tr>\n",
       "      <th>0</th>\n",
       "      <td>[5 Bed House with En Suite in Kamakis, 6 Bed H...</td>\n",
       "      <td>[Kamakis, Ruiru, Lamu Town, Lamu, lamu, 0105, ...</td>\n",
       "      <td>[18,500,000, 24,000,000, 195,000,000, 22,000,0...</td>\n",
       "    </tr>\n",
       "  </tbody>\n",
       "</table>\n",
       "</div>"
      ],
      "text/plain": [
       "                                              titles  \\\n",
       "0  [5 Bed House with En Suite in Kamakis, 6 Bed H...   \n",
       "\n",
       "                                           locations  \\\n",
       "0  [Kamakis, Ruiru, Lamu Town, Lamu, lamu, 0105, ...   \n",
       "\n",
       "                                              prices  \n",
       "0  [18,500,000, 24,000,000, 195,000,000, 22,000,0...  "
      ]
     },
     "execution_count": 33,
     "metadata": {},
     "output_type": "execute_result"
    }
   ],
   "source": [
    "df.head(10)\n",
    "df[\"prices\"] = df[\"prices\"].reindex(df.index, fill_value=np.nan)\n",
    "df.head(10)"
   ]
  },
  {
   "cell_type": "code",
   "execution_count": 38,
   "metadata": {},
   "outputs": [
    {
     "ename": "ValueError",
     "evalue": "columns must have matching element counts",
     "output_type": "error",
     "traceback": [
      "\u001b[31m---------------------------------------------------------------------------\u001b[39m",
      "\u001b[31mValueError\u001b[39m                                Traceback (most recent call last)",
      "\u001b[32m~\\AppData\\Local\\Temp\\ipykernel_2760\\2062279241.py\u001b[39m in \u001b[36m?\u001b[39m\u001b[34m()\u001b[39m\n\u001b[32m----> \u001b[39m\u001b[32m1\u001b[39m df.explode([\u001b[33m\"titles\"\u001b[39m, \u001b[33m\"locations\"\u001b[39m, \u001b[33m\"prices\"\u001b[39m], ignore_index=\u001b[38;5;28;01mTrue\u001b[39;00m)\n\u001b[32m      2\u001b[39m df.head(\u001b[32m10\u001b[39m)\n",
      "\u001b[32mc:\\Users\\LENOVO\\Documents\\Denzel's Prrojects\\house-data-scraping\\myenv\\Lib\\site-packages\\pandas\\core\\frame.py\u001b[39m in \u001b[36m?\u001b[39m\u001b[34m(self, column, ignore_index)\u001b[39m\n\u001b[32m   9848\u001b[39m             mylen = \u001b[38;5;28;01mlambda\u001b[39;00m x: len(x) \u001b[38;5;28;01mif\u001b[39;00m (is_list_like(x) \u001b[38;5;28;01mand\u001b[39;00m len(x) > \u001b[32m0\u001b[39m) \u001b[38;5;28;01melse\u001b[39;00m \u001b[32m1\u001b[39m\n\u001b[32m   9849\u001b[39m             counts0 = self[columns[\u001b[32m0\u001b[39m]].apply(mylen)\n\u001b[32m   9850\u001b[39m             \u001b[38;5;28;01mfor\u001b[39;00m c \u001b[38;5;28;01min\u001b[39;00m columns[\u001b[32m1\u001b[39m:]:\n\u001b[32m   9851\u001b[39m                 \u001b[38;5;28;01mif\u001b[39;00m \u001b[38;5;28;01mnot\u001b[39;00m all(counts0 == self[c].apply(mylen)):\n\u001b[32m-> \u001b[39m\u001b[32m9852\u001b[39m                     \u001b[38;5;28;01mraise\u001b[39;00m ValueError(\u001b[33m\"columns must have matching element counts\"\u001b[39m)\n\u001b[32m   9853\u001b[39m             result = DataFrame({c: df[c].explode() \u001b[38;5;28;01mfor\u001b[39;00m c \u001b[38;5;28;01min\u001b[39;00m columns})\n\u001b[32m   9854\u001b[39m         result = df.drop(columns, axis=\u001b[32m1\u001b[39m).join(result)\n\u001b[32m   9855\u001b[39m         \u001b[38;5;28;01mif\u001b[39;00m ignore_index:\n",
      "\u001b[31mValueError\u001b[39m: columns must have matching element counts"
     ]
    }
   ],
   "source": []
  },
  {
   "cell_type": "code",
   "execution_count": null,
   "metadata": {},
   "outputs": [],
   "source": []
  }
 ],
 "metadata": {
  "kernelspec": {
   "display_name": "myenv",
   "language": "python",
   "name": "python3"
  },
  "language_info": {
   "codemirror_mode": {
    "name": "ipython",
    "version": 3
   },
   "file_extension": ".py",
   "mimetype": "text/x-python",
   "name": "python",
   "nbconvert_exporter": "python",
   "pygments_lexer": "ipython3",
   "version": "3.12.2"
  }
 },
 "nbformat": 4,
 "nbformat_minor": 2
}
